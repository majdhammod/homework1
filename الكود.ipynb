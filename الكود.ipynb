{
 "cells": [
  {
   "cell_type": "code",
   "execution_count": null,
   "id": "45b2588b",
   "metadata": {},
   "outputs": [],
   "source": [
    "#السؤال الاول الطلب A"
   ]
  },
  {
   "cell_type": "code",
   "execution_count": 1,
   "id": "de0649d3",
   "metadata": {},
   "outputs": [
    {
     "name": "stdout",
     "output_type": "stream",
     "text": [
      "{'HTTP': 80, 'HTTPS': 443, 'FTP': 20, 'DNS': 53}\n"
     ]
    }
   ],
   "source": [
    "L1=['HTTP','HTTPS','FTP','DNS']\n",
    "L2=[80,443,20,53]\n",
    "d=dict()\n",
    "for i in range(len(L1)):\n",
    "    d[L1[i]]=L2[i]\n",
    "print(d)"
   ]
  },
  {
   "cell_type": "code",
   "execution_count": 2,
   "id": "5a936662",
   "metadata": {},
   "outputs": [],
   "source": [
    "#B"
   ]
  },
  {
   "cell_type": "code",
   "execution_count": 3,
   "id": "86b53564",
   "metadata": {},
   "outputs": [
    {
     "name": "stdout",
     "output_type": "stream",
     "text": [
      "[1, 2, 3, 5, 7, 11, 13, 17, 19, 23, 29, 31, 37, 41, 43, 47, 53, 59, 61, 67, 71, 73, 79, 83, 89, 97, 101, 103, 107, 109, 113, 127, 131, 137, 139, 149, 151, 157, 163, 167, 173, 179, 181, 191, 193, 197, 199, 211, 223, 227, 229, 233, 239, 241, 251, 257, 263, 269, 271, 277, 281, 283, 293, 307, 311, 313, 317, 331, 337, 347, 349, 353, 359, 367, 373, 379, 383, 389, 397, 401, 409, 419, 421, 431, 433, 439, 443, 449, 457, 461, 463, 467, 479, 487, 491, 499, 503, 509, 521, 523, 541, 547, 557, 563, 569, 571, 577, 587, 593, 599, 601, 607, 613, 617, 619, 631, 641, 643, 647, 653, 659, 661, 673, 677, 683, 691, 701, 709, 719, 727, 733, 739, 743, 751, 757, 761, 769, 773, 787, 797, 809, 811, 821, 823, 827, 829, 839, 853, 857, 859, 863, 877, 881, 883, 887, 907, 911, 919, 929, 937, 941, 947, 953, 967, 971, 977, 983, 991, 997]\n"
     ]
    }
   ],
   "source": [
    "def func(n):\n",
    "    for i in range(2,n):\n",
    "        if n%i==0:\n",
    "            return False\n",
    "    return True\n",
    "L=[x for x in range(1,1000) if func(x)]\n",
    "print(L)"
   ]
  },
  {
   "cell_type": "code",
   "execution_count": 4,
   "id": "d381e446",
   "metadata": {},
   "outputs": [],
   "source": [
    "#C"
   ]
  },
  {
   "cell_type": "code",
   "execution_count": 5,
   "id": "60e38866",
   "metadata": {},
   "outputs": [
    {
     "name": "stdout",
     "output_type": "stream",
     "text": [
      "Physics\n"
     ]
    }
   ],
   "source": [
    "L=['Network','Math','Programming','Physics','Music']\n",
    "for i in range(len(L)):\n",
    "    if L[i].startswith('Ph'):\n",
    "        print(L[i])"
   ]
  },
  {
   "cell_type": "code",
   "execution_count": 6,
   "id": "ed620389",
   "metadata": {},
   "outputs": [],
   "source": [
    "#D"
   ]
  },
  {
   "cell_type": "code",
   "execution_count": 7,
   "id": "213553d1",
   "metadata": {},
   "outputs": [
    {
     "name": "stdout",
     "output_type": "stream",
     "text": [
      "{1: 2, 2: 3, 3: 4, 4: 5, 5: 6, 6: 7, 7: 8, 8: 9, 9: 10, 10: 11}\n"
     ]
    }
   ],
   "source": [
    "d={k:k+1 for k in range(1,11)}\n",
    "print(d)"
   ]
  },
  {
   "cell_type": "code",
   "execution_count": 8,
   "id": "6356d1e0",
   "metadata": {},
   "outputs": [],
   "source": [
    "#السؤال الثاني"
   ]
  },
  {
   "cell_type": "code",
   "execution_count": 9,
   "id": "7d1438ce",
   "metadata": {},
   "outputs": [
    {
     "name": "stdout",
     "output_type": "stream",
     "text": [
      "enter an binary number: 1010\n",
      "10\n"
     ]
    }
   ],
   "source": [
    "bin_num = input(\"enter an binary number: \")\n",
    "t=0\n",
    "for i in bin_num:\n",
    "    if i =='0' or i=='1':\n",
    "        pass\n",
    "    else:\n",
    "        t+=1\n",
    "        print('error')\n",
    "        break\n",
    "if t==0:\n",
    "    deci_num = 0\n",
    "    for i in range(len(bin_num)):\n",
    "        digit = int(bin_num[i])\n",
    "        deci_num += digit * 2**(len(bin_num)-i-1)\n",
    "    print(deci_num)"
   ]
  },
  {
   "cell_type": "code",
   "execution_count": 10,
   "id": "1b3022d3",
   "metadata": {},
   "outputs": [],
   "source": [
    "#السؤال الثالث"
   ]
  },
  {
   "cell_type": "code",
   "execution_count": 1,
   "id": "3b005121",
   "metadata": {},
   "outputs": [
    {
     "name": "stdout",
     "output_type": "stream",
     "text": [
      "enter your name: Majd\n",
      "1+1\n",
      "2\n",
      "2+2\n",
      "4\n",
      "3+3\n",
      "6\n",
      "4+4\n",
      "8\n",
      "5+5\n",
      "9\n",
      "6+6\n",
      "12\n",
      "7+7\n",
      "14\n",
      "{'1+1': '2', '2+2': '4', '3+3': '6', '4+4': '8', '6+6': '12', '7+7': '14', 'Majd': 6}\n"
     ]
    }
   ],
   "source": [
    "import json\n",
    "infile='1.json'\n",
    "infile=open(infile,'r')\n",
    "num=0\n",
    "u=input('enter your name: ')\n",
    "d=dict()\n",
    "dic=json.load(infile)\n",
    "infile.close()\n",
    "for k,v in dic.items():\n",
    "    print(k)\n",
    "    a=input()\n",
    "    if a == v:\n",
    "        num+=1\n",
    "        d[k]=v\n",
    "d[u]=num\n",
    "print(d)\n",
    "outfile='2.json'\n",
    "outfile=open(outfile,'w')\n",
    "json.dump(d,outfile)\n",
    "outfile.close()\n"
   ]
  },
  {
   "cell_type": "code",
   "execution_count": null,
   "id": "420aa2d3",
   "metadata": {},
   "outputs": [],
   "source": []
  }
 ],
 "metadata": {
  "kernelspec": {
   "display_name": "Python 3 (ipykernel)",
   "language": "python",
   "name": "python3"
  },
  "language_info": {
   "codemirror_mode": {
    "name": "ipython",
    "version": 3
   },
   "file_extension": ".py",
   "mimetype": "text/x-python",
   "name": "python",
   "nbconvert_exporter": "python",
   "pygments_lexer": "ipython3",
   "version": "3.11.2"
  }
 },
 "nbformat": 4,
 "nbformat_minor": 5
}
